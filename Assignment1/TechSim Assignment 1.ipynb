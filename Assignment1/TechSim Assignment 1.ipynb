{
 "cells": [
  {
   "cell_type": "markdown",
   "metadata": {
    "id": "tQrGEREBXwT2"
   },
   "source": [
    "## TechSim Assignment 1 \n"
   ]
  },
  {
   "cell_type": "code",
   "execution_count": 1,
   "metadata": {
    "executionInfo": {
     "elapsed": 1011,
     "status": "ok",
     "timestamp": 1604379326081,
     "user": {
      "displayName": "Babu Lal",
      "photoUrl": "https://lh3.googleusercontent.com/a-/AOh14GjLdl8Xvx0KTtaoG9j7oeBZmPf9RjIKx9aejyTCNw=s64",
      "userId": "06346383771413428052"
     },
     "user_tz": -330
    },
    "id": "WPU5L0Vmo-Ul"
   },
   "outputs": [],
   "source": [
    "import numpy as np\n",
    "import pandas as pd"
   ]
  },
  {
   "cell_type": "code",
   "execution_count": 2,
   "metadata": {
    "executionInfo": {
     "elapsed": 1962,
     "status": "ok",
     "timestamp": 1604379327046,
     "user": {
      "displayName": "Babu Lal",
      "photoUrl": "https://lh3.googleusercontent.com/a-/AOh14GjLdl8Xvx0KTtaoG9j7oeBZmPf9RjIKx9aejyTCNw=s64",
      "userId": "06346383771413428052"
     },
     "user_tz": -330
    },
    "id": "sgQF3OM9S1Q2"
   },
   "outputs": [],
   "source": [
    "# Create a DataFrame using list\n",
    "columns = ['Name', 'Age', 'Mobile Number', 'Email']\n",
    "data = [\n",
    "        ['Sara', 21, 9132454356, 'sara@gmail.com'], \n",
    "        ['Ram', 28, 9203949283, 'ram@gmail.com'], \n",
    "        ['Suman', 23, 2392838495, 'suman@gmail.com'],\n",
    "        ['Rosh', 29, 9283742800, 'rosh@gmail.com']\n",
    "       ] \n",
    "df = pd.DataFrame(data, columns= columns)"
   ]
  },
  {
   "cell_type": "code",
   "execution_count": 3,
   "metadata": {
    "colab": {
     "base_uri": "https://localhost:8080/",
     "height": 166
    },
    "executionInfo": {
     "elapsed": 1933,
     "status": "ok",
     "timestamp": 1604379327047,
     "user": {
      "displayName": "Babu Lal",
      "photoUrl": "https://lh3.googleusercontent.com/a-/AOh14GjLdl8Xvx0KTtaoG9j7oeBZmPf9RjIKx9aejyTCNw=s64",
      "userId": "06346383771413428052"
     },
     "user_tz": -330
    },
    "id": "hwqKcJ-GJee4",
    "outputId": "f4c7efa7-2178-4603-82b4-86dc8a72e914"
   },
   "outputs": [
    {
     "data": {
      "text/html": [
       "<div>\n",
       "<style scoped>\n",
       "    .dataframe tbody tr th:only-of-type {\n",
       "        vertical-align: middle;\n",
       "    }\n",
       "\n",
       "    .dataframe tbody tr th {\n",
       "        vertical-align: top;\n",
       "    }\n",
       "\n",
       "    .dataframe thead th {\n",
       "        text-align: right;\n",
       "    }\n",
       "</style>\n",
       "<table border=\"1\" class=\"dataframe\">\n",
       "  <thead>\n",
       "    <tr style=\"text-align: right;\">\n",
       "      <th></th>\n",
       "      <th>Name</th>\n",
       "      <th>Age</th>\n",
       "      <th>Mobile Number</th>\n",
       "      <th>Email</th>\n",
       "    </tr>\n",
       "  </thead>\n",
       "  <tbody>\n",
       "    <tr>\n",
       "      <th>0</th>\n",
       "      <td>Sara</td>\n",
       "      <td>21</td>\n",
       "      <td>9132454356</td>\n",
       "      <td>sara@gmail.com</td>\n",
       "    </tr>\n",
       "    <tr>\n",
       "      <th>1</th>\n",
       "      <td>Ram</td>\n",
       "      <td>28</td>\n",
       "      <td>9203949283</td>\n",
       "      <td>ram@gmail.com</td>\n",
       "    </tr>\n",
       "    <tr>\n",
       "      <th>2</th>\n",
       "      <td>Suman</td>\n",
       "      <td>23</td>\n",
       "      <td>2392838495</td>\n",
       "      <td>suman@gmail.com</td>\n",
       "    </tr>\n",
       "    <tr>\n",
       "      <th>3</th>\n",
       "      <td>Rosh</td>\n",
       "      <td>29</td>\n",
       "      <td>9283742800</td>\n",
       "      <td>rosh@gmail.com</td>\n",
       "    </tr>\n",
       "  </tbody>\n",
       "</table>\n",
       "</div>"
      ],
      "text/plain": [
       "    Name  Age  Mobile Number            Email\n",
       "0   Sara   21     9132454356   sara@gmail.com\n",
       "1    Ram   28     9203949283    ram@gmail.com\n",
       "2  Suman   23     2392838495  suman@gmail.com\n",
       "3   Rosh   29     9283742800   rosh@gmail.com"
      ]
     },
     "execution_count": 3,
     "metadata": {},
     "output_type": "execute_result"
    }
   ],
   "source": [
    "df"
   ]
  },
  {
   "cell_type": "code",
   "execution_count": 4,
   "metadata": {
    "colab": {
     "base_uri": "https://localhost:8080/"
    },
    "executionInfo": {
     "elapsed": 1921,
     "status": "ok",
     "timestamp": 1604379327049,
     "user": {
      "displayName": "Babu Lal",
      "photoUrl": "https://lh3.googleusercontent.com/a-/AOh14GjLdl8Xvx0KTtaoG9j7oeBZmPf9RjIKx9aejyTCNw=s64",
      "userId": "06346383771413428052"
     },
     "user_tz": -330
    },
    "id": "yB1FcQAjOWQ6",
    "outputId": "72feb63a-7f82-4847-c705-4e8aefcd0358"
   },
   "outputs": [
    {
     "data": {
      "text/plain": [
       "Index(['Name', 'Age', 'Mobile Number', 'Email'], dtype='object')"
      ]
     },
     "execution_count": 4,
     "metadata": {},
     "output_type": "execute_result"
    }
   ],
   "source": [
    "# Columns name of the dataframe\n",
    "df.columns"
   ]
  },
  {
   "cell_type": "code",
   "execution_count": 5,
   "metadata": {
    "colab": {
     "base_uri": "https://localhost:8080/",
     "height": 166
    },
    "executionInfo": {
     "elapsed": 1905,
     "status": "ok",
     "timestamp": 1604379327050,
     "user": {
      "displayName": "Babu Lal",
      "photoUrl": "https://lh3.googleusercontent.com/a-/AOh14GjLdl8Xvx0KTtaoG9j7oeBZmPf9RjIKx9aejyTCNw=s64",
      "userId": "06346383771413428052"
     },
     "user_tz": -330
    },
    "id": "x3sNDLPuOgxO",
    "outputId": "be79cd74-7f2e-4b45-b35f-8a13c1f8eecb"
   },
   "outputs": [
    {
     "data": {
      "text/html": [
       "<div>\n",
       "<style scoped>\n",
       "    .dataframe tbody tr th:only-of-type {\n",
       "        vertical-align: middle;\n",
       "    }\n",
       "\n",
       "    .dataframe tbody tr th {\n",
       "        vertical-align: top;\n",
       "    }\n",
       "\n",
       "    .dataframe thead th {\n",
       "        text-align: right;\n",
       "    }\n",
       "</style>\n",
       "<table border=\"1\" class=\"dataframe\">\n",
       "  <thead>\n",
       "    <tr style=\"text-align: right;\">\n",
       "      <th></th>\n",
       "      <th>Name</th>\n",
       "      <th>Age</th>\n",
       "      <th>Mobile Number</th>\n",
       "      <th>Email</th>\n",
       "    </tr>\n",
       "  </thead>\n",
       "  <tbody>\n",
       "    <tr>\n",
       "      <th>0</th>\n",
       "      <td>Sara</td>\n",
       "      <td>21</td>\n",
       "      <td>9132454356</td>\n",
       "      <td>sara@gmail.com</td>\n",
       "    </tr>\n",
       "    <tr>\n",
       "      <th>1</th>\n",
       "      <td>Ram</td>\n",
       "      <td>28</td>\n",
       "      <td>9203949283</td>\n",
       "      <td>ram@gmail.com</td>\n",
       "    </tr>\n",
       "    <tr>\n",
       "      <th>2</th>\n",
       "      <td>Suresh</td>\n",
       "      <td>23</td>\n",
       "      <td>2392838495</td>\n",
       "      <td>suman@gmail.com</td>\n",
       "    </tr>\n",
       "    <tr>\n",
       "      <th>3</th>\n",
       "      <td>Rosh</td>\n",
       "      <td>29</td>\n",
       "      <td>9283742800</td>\n",
       "      <td>rosh@gmail.com</td>\n",
       "    </tr>\n",
       "  </tbody>\n",
       "</table>\n",
       "</div>"
      ],
      "text/plain": [
       "     Name  Age  Mobile Number            Email\n",
       "0    Sara   21     9132454356   sara@gmail.com\n",
       "1     Ram   28     9203949283    ram@gmail.com\n",
       "2  Suresh   23     2392838495  suman@gmail.com\n",
       "3    Rosh   29     9283742800   rosh@gmail.com"
      ]
     },
     "execution_count": 5,
     "metadata": {},
     "output_type": "execute_result"
    }
   ],
   "source": [
    "# Select a particular value from a DataFrame and replace it wwith the new value\n",
    "df.replace(to_replace='Suman', value='Suresh', inplace=True)\n",
    "df"
   ]
  },
  {
   "cell_type": "code",
   "execution_count": 6,
   "metadata": {
    "colab": {
     "base_uri": "https://localhost:8080/",
     "height": 166
    },
    "executionInfo": {
     "elapsed": 1893,
     "status": "ok",
     "timestamp": 1604379327051,
     "user": {
      "displayName": "Babu Lal",
      "photoUrl": "https://lh3.googleusercontent.com/a-/AOh14GjLdl8Xvx0KTtaoG9j7oeBZmPf9RjIKx9aejyTCNw=s64",
      "userId": "06346383771413428052"
     },
     "user_tz": -330
    },
    "id": "I9IC9wkSRi9E",
    "outputId": "1bbc666a-691a-4b90-c1a7-4728c2da8b6c"
   },
   "outputs": [
    {
     "data": {
      "text/html": [
       "<div>\n",
       "<style scoped>\n",
       "    .dataframe tbody tr th:only-of-type {\n",
       "        vertical-align: middle;\n",
       "    }\n",
       "\n",
       "    .dataframe tbody tr th {\n",
       "        vertical-align: top;\n",
       "    }\n",
       "\n",
       "    .dataframe thead th {\n",
       "        text-align: right;\n",
       "    }\n",
       "</style>\n",
       "<table border=\"1\" class=\"dataframe\">\n",
       "  <thead>\n",
       "    <tr style=\"text-align: right;\">\n",
       "      <th></th>\n",
       "      <th>Name</th>\n",
       "      <th>Age</th>\n",
       "      <th>Mobile Number</th>\n",
       "      <th>Email</th>\n",
       "      <th>New Age</th>\n",
       "    </tr>\n",
       "  </thead>\n",
       "  <tbody>\n",
       "    <tr>\n",
       "      <th>0</th>\n",
       "      <td>Sara</td>\n",
       "      <td>21</td>\n",
       "      <td>9132454356</td>\n",
       "      <td>sara@gmail.com</td>\n",
       "      <td>31</td>\n",
       "    </tr>\n",
       "    <tr>\n",
       "      <th>1</th>\n",
       "      <td>Ram</td>\n",
       "      <td>28</td>\n",
       "      <td>9203949283</td>\n",
       "      <td>ram@gmail.com</td>\n",
       "      <td>38</td>\n",
       "    </tr>\n",
       "    <tr>\n",
       "      <th>2</th>\n",
       "      <td>Suresh</td>\n",
       "      <td>23</td>\n",
       "      <td>2392838495</td>\n",
       "      <td>suman@gmail.com</td>\n",
       "      <td>33</td>\n",
       "    </tr>\n",
       "    <tr>\n",
       "      <th>3</th>\n",
       "      <td>Rosh</td>\n",
       "      <td>29</td>\n",
       "      <td>9283742800</td>\n",
       "      <td>rosh@gmail.com</td>\n",
       "      <td>39</td>\n",
       "    </tr>\n",
       "  </tbody>\n",
       "</table>\n",
       "</div>"
      ],
      "text/plain": [
       "     Name  Age  Mobile Number            Email  New Age\n",
       "0    Sara   21     9132454356   sara@gmail.com       31\n",
       "1     Ram   28     9203949283    ram@gmail.com       38\n",
       "2  Suresh   23     2392838495  suman@gmail.com       33\n",
       "3    Rosh   29     9283742800   rosh@gmail.com       39"
      ]
     },
     "execution_count": 6,
     "metadata": {},
     "output_type": "execute_result"
    }
   ],
   "source": [
    "# Create a new column in pandas dataframe based on the existing columns\n",
    "df['New Age'] = df['Age'] + 10\n",
    "df"
   ]
  },
  {
   "cell_type": "code",
   "execution_count": 7,
   "metadata": {
    "colab": {
     "base_uri": "https://localhost:8080/"
    },
    "executionInfo": {
     "elapsed": 1881,
     "status": "ok",
     "timestamp": 1604379327052,
     "user": {
      "displayName": "Babu Lal",
      "photoUrl": "https://lh3.googleusercontent.com/a-/AOh14GjLdl8Xvx0KTtaoG9j7oeBZmPf9RjIKx9aejyTCNw=s64",
      "userId": "06346383771413428052"
     },
     "user_tz": -330
    },
    "id": "jLbtQbKASvTl",
    "outputId": "e2d7f05c-e666-49ab-d91c-28f954dfcfda"
   },
   "outputs": [
    {
     "data": {
      "text/plain": [
       "array([12, 18, 18, 21, 19, 20])"
      ]
     },
     "execution_count": 7,
     "metadata": {},
     "output_type": "execute_result"
    }
   ],
   "source": [
    "# Create a array that have six random integers between 10 and 30\n",
    "array = np.random.randint(10,30,size=(6))\n",
    "array"
   ]
  },
  {
   "cell_type": "code",
   "execution_count": 8,
   "metadata": {
    "colab": {
     "base_uri": "https://localhost:8080/"
    },
    "executionInfo": {
     "elapsed": 1870,
     "status": "ok",
     "timestamp": 1604379327053,
     "user": {
      "displayName": "Babu Lal",
      "photoUrl": "https://lh3.googleusercontent.com/a-/AOh14GjLdl8Xvx0KTtaoG9j7oeBZmPf9RjIKx9aejyTCNw=s64",
      "userId": "06346383771413428052"
     },
     "user_tz": -330
    },
    "id": "jMlbBYOxTK7A",
    "outputId": "bd8c8489-9bae-418d-8d50-0a728147c6bd"
   },
   "outputs": [
    {
     "name": "stdout",
     "output_type": "stream",
     "text": [
      "5*5 array with random values is: \n",
      " [[24 16 13  0 24]\n",
      " [ 6  1 20 15 10]\n",
      " [ 5  6  7 11  7]\n",
      " [ 8  8 14 15 21]\n",
      " [21 16 16 20 13]]\n",
      "Minimum value in a array is: 0\n",
      "Maximum value in a array is: 24\n"
     ]
    }
   ],
   "source": [
    "# Create a 5*5 array with random values and find the minimum and maximum values\n",
    "array = np.random.randint(25,size=(5,5))\n",
    "print('5*5 array with random values is: \\n {}'.format(array))\n",
    "print(f'Minimum value in a array is: {array.min()}')\n",
    "print(f'Maximum value in a array is: {array.max()}')"
   ]
  }
 ],
 "metadata": {
  "colab": {
   "authorship_tag": "ABX9TyNQUCKh/Raw9l2MkcO6Df82",
   "collapsed_sections": [],
   "name": "Untitled0.ipynb",
   "provenance": []
  },
  "kernelspec": {
   "display_name": "Python 3",
   "language": "python",
   "name": "python3"
  },
  "language_info": {
   "codemirror_mode": {
    "name": "ipython",
    "version": 3
   },
   "file_extension": ".py",
   "mimetype": "text/x-python",
   "name": "python",
   "nbconvert_exporter": "python",
   "pygments_lexer": "ipython3",
   "version": "3.8.3"
  },
  "toc": {
   "base_numbering": 1,
   "nav_menu": {},
   "number_sections": true,
   "sideBar": true,
   "skip_h1_title": false,
   "title_cell": "Table of Contents",
   "title_sidebar": "Contents",
   "toc_cell": false,
   "toc_position": {},
   "toc_section_display": true,
   "toc_window_display": false
  }
 },
 "nbformat": 4,
 "nbformat_minor": 1
}
